{
 "cells": [
  {
   "cell_type": "code",
   "execution_count": null,
   "id": "eade4a88",
   "metadata": {},
   "outputs": [],
   "source": [
    "import numpy as np \n",
    "from typing import TypedDict\n",
    "from langgraph.graph import StateGraph"
   ]
  },
  {
   "cell_type": "code",
   "execution_count": 14,
   "id": "1ea405c0",
   "metadata": {},
   "outputs": [],
   "source": [
    "# Step 1: Define the structure of the state\n",
    "class State(TypedDict):\n",
    "    name : str\n",
    "    \n",
    "    \n",
    "# Step 2: Define the node function\n",
    "def compliment_node(state: State) -> State:\n",
    "    \"\"\"Simple node that adds a greeting message to the state\n",
    "\n",
    "    Args:\n",
    "        state (AgentState): _description_\n",
    "\n",
    "    Returns:\n",
    "        AgentState: _description_\n",
    "    \"\"\"\n",
    "    \n",
    "    state['name'] = \"Hey \" + state[\"name\"] + \", you're doing an amazing job learning LangGraph!\"\n",
    "    \n",
    "    return state\n",
    "\n",
    "    \n",
    "# Step 3: Build the LangGraph\n",
    "builder = StateGraph(State)\n",
    "builder.add_node(\"compliment\", compliment_node)\n",
    "builder.set_entry_point(\"compliment\")\n",
    "builder.set_finish_point(\"compliment\")\n",
    "\n",
    "# Step 4: Compile and invoke\n",
    "app = builder.compile()\n"
   ]
  },
  {
   "cell_type": "code",
   "execution_count": 15,
   "id": "e635812c",
   "metadata": {},
   "outputs": [
    {
     "name": "stdout",
     "output_type": "stream",
     "text": [
      "Hey Bob, you're doing an amazing job learning LangGraph!\n"
     ]
    }
   ],
   "source": [
    "# Test\n",
    "result = app.invoke({\"name\": \"Bob\"})\n",
    "print(result[\"name\"])"
   ]
  },
  {
   "cell_type": "code",
   "execution_count": null,
   "id": "e6fc30ea",
   "metadata": {},
   "outputs": [],
   "source": []
  },
  {
   "cell_type": "code",
   "execution_count": null,
   "id": "1c22e082",
   "metadata": {},
   "outputs": [],
   "source": []
  },
  {
   "cell_type": "code",
   "execution_count": null,
   "id": "c171a8fc",
   "metadata": {},
   "outputs": [],
   "source": []
  }
 ],
 "metadata": {
  "kernelspec": {
   "display_name": "torch_env",
   "language": "python",
   "name": "python3"
  },
  "language_info": {
   "codemirror_mode": {
    "name": "ipython",
    "version": 3
   },
   "file_extension": ".py",
   "mimetype": "text/x-python",
   "name": "python",
   "nbconvert_exporter": "python",
   "pygments_lexer": "ipython3",
   "version": "3.11.10"
  }
 },
 "nbformat": 4,
 "nbformat_minor": 5
}
