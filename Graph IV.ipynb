{
 "cells": [
  {
   "cell_type": "markdown",
   "id": "c8bbd040",
   "metadata": {},
   "source": [
    "### Conditional Graph\n",
    "##### Objectives:\n",
    "1. Implement `conditional` logic to route the flow of data to different nodes.\n",
    "2. Use `Start` and `End` nodes to manage entry and exit points explicitly.\n",
    "3. Design multiple nodes to perform different operation (addition,substraction)\n",
    "4. Create a `router node` to handle decision-making and control graph flow.\n",
    "\n",
    "***Main Goal: How to use add_conditional_edges()***"
   ]
  },
  {
   "cell_type": "code",
   "execution_count": 2,
   "id": "886525a3",
   "metadata": {},
   "outputs": [],
   "source": [
    "from typing import Dict, TypedDict, List \n",
    "from langgraph.graph import StateGraph, START, END "
   ]
  },
  {
   "cell_type": "code",
   "execution_count": 3,
   "id": "78abd945",
   "metadata": {},
   "outputs": [],
   "source": [
    "class AgentState(TypedDict):\n",
    "    number1: int \n",
    "    operation: str \n",
    "    number2: int \n",
    "    finalNumber: int "
   ]
  },
  {
   "cell_type": "code",
   "execution_count": null,
   "id": "5c3bbb41",
   "metadata": {},
   "outputs": [],
   "source": [
    "def adder(state: AgentState) -> AgentState:\n",
    "    \"\"\"This node adds the numbers\"\"\"\n",
    "    \n",
    "    state['finalNumber'] = state[\"number1\"] + state[\"number2\"]\n",
    "    return state\n",
    "\n",
    "def substractor(state:AgentState) -> AgentState:\n",
    "    \"\"\"This node substract the 2 numbers\"\"\"\n",
    "    state['finalNumber'] = state[\"number1\"] - state[\"number2\"]\n",
    "    return state\n",
    "\n",
    "def decide_next_node(state:AgentState) -> AgentState:\n",
    "    \"\"\"This node will select the next node of the graph\"\"\"\n",
    "    \n",
    "    if state[\"operation\"] == \"+\":\n",
    "        return \"addition_operation\"\n",
    "    elif state[\"operation\"] == \"-\":\n",
    "        return \"subtraction_operation\""
   ]
  },
  {
   "cell_type": "code",
   "execution_count": null,
   "id": "18c13080",
   "metadata": {},
   "outputs": [],
   "source": [
    "graph = StateGraph(AgentState)\n",
    "\n",
    "graph.add_node(\"add_node\",adder)\n",
    "graph.add_node(\"substract_node\",substractor)\n",
    "graph.add_node(\"router\",lambda state:state) # passthrough function \n",
    "\n",
    "graph.add_edge(START,\"router\")\n",
    "\n",
    "graph.add_conditional_edges(\n",
    "    \"router\",\n",
    "    decide_next_node,\n",
    "    \n",
    "    {\n",
    "        # Edge: Node\n",
    "        \"addition_operation\":\"add_node\",\n",
    "        'subtraction_operation':\"substract_node\"\n",
    "    }\n",
    ")\n",
    "\n",
    "graph.add_edge(\"add_node\",END)\n",
    "graph.add_edge(\"substract_node\", END)\n",
    "\n",
    "app = graph.compile()\n"
   ]
  },
  {
   "cell_type": "code",
   "execution_count": 9,
   "id": "a580a8d1",
   "metadata": {},
   "outputs": [
    {
     "data": {
      "image/png": "[encoded data removed]",
      "text/plain": [
       "<IPython.core.display.Image object>"
      ]
     },
     "metadata": {},
     "output_type": "display_data"
    }
   ],
   "source": [
    "from IPython.display import Image, display \n",
    "display(Image(app.get_graph().draw_mermaid_png()))"
   ]
  },
  {
   "cell_type": "code",
   "execution_count": 12,
   "id": "ac9949dc",
   "metadata": {},
   "outputs": [
    {
     "name": "stdout",
     "output_type": "stream",
     "text": [
      "{'number1': 10, 'operation': '-', 'number2': 5, 'finalNumber': 5}\n"
     ]
    }
   ],
   "source": [
    "initial_state_1 = AgentState(number1=10, operation=\"-\", number2=5)\n",
    "print(app.invoke(initial_state_1))"
   ]
  },
  {
   "cell_type": "code",
   "execution_count": null,
   "id": "408a9285",
   "metadata": {},
   "outputs": [],
   "source": []
  }
 ],
 "metadata": {
  "kernelspec": {
   "display_name": "torch_env",
   "language": "python",
   "name": "python3"
  },
  "language_info": {
   "codemirror_mode": {
    "name": "ipython",
    "version": 3
   },
   "file_extension": ".py",
   "mimetype": "text/x-python",
   "name": "python",
   "nbconvert_exporter": "python",
   "pygments_lexer": "ipython3",
   "version": "3.11.10"
  }
 },
 "nbformat": 4,
 "nbformat_minor": 5
}
