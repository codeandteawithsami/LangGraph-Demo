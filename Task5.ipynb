{
 "cells": [
  {
   "cell_type": "markdown",
   "id": "8e4dfdac",
   "metadata": {},
   "source": [
    "##### ***Exercise for Graph V ***\n",
    "***Your Task.***\n",
    "Make the graph on the right! you need to implement an `Automation` "
   ]
  },
  {
   "cell_type": "code",
   "execution_count": 1,
   "id": "5ad125e2",
   "metadata": {},
   "outputs": [],
   "source": [
    "import random\n",
    "from typing import Dict, TypedDict,List \n",
    "from langgraph.graph import StateGraph,START,END    "
   ]
  },
  {
   "cell_type": "code",
   "execution_count": 2,
   "id": "14ead939",
   "metadata": {},
   "outputs": [],
   "source": [
    "class AgentState(TypedDict):\n",
    "    player_name: str\n",
    "    guesses: List[int]\n",
    "    attempts: int\n",
    "    lower_bound: int\n",
    "    upper_bound: int\n",
    "    target: int\n",
    "    hint: str\n",
    "    status: str"
   ]
  },
  {
   "cell_type": "code",
   "execution_count": 7,
   "id": "ae98d84e",
   "metadata": {},
   "outputs": [],
   "source": [
    "def guess_number(state: AgentState) -> AgentState:\n",
    "    # ✅ Corrected syntax: state[...] not state(...)\n",
    "    guess = (state[\"lower_bound\"] + state[\"upper_bound\"]) // 2\n",
    "    state[\"guesses\"].append(guess)\n",
    "    state['attempts'] += 1\n",
    "    return state\n",
    "\n",
    "def hint_node(state: AgentState) -> AgentState:\n",
    "    last_guess = state[\"guesses\"][-1]\n",
    "    target = state[\"target\"]\n",
    "\n",
    "    if last_guess == target:\n",
    "        state['hint'] = \"correct\"\n",
    "        state['status'] = \"won\"\n",
    "    elif last_guess < target:\n",
    "        state['hint'] = \"higher\"\n",
    "    else:\n",
    "        state['hint'] = \"lower\"\n",
    "\n",
    "    return state\n",
    "\n",
    "def update_bounds(state: AgentState) -> AgentState:\n",
    "    last_guess = state[\"guesses\"][-1]  # ✅ You were assigning the whole list\n",
    "    if state['hint'] == \"higher\":\n",
    "        state[\"lower_bound\"] = last_guess + 1\n",
    "    elif state['hint'] == \"lower\":\n",
    "        state[\"upper_bound\"] = last_guess - 1\n",
    "    return state\n",
    "\n",
    "def check_game_status(state: AgentState) -> str:  # ✅ Must return a string: name of next node\n",
    "    if state[\"hint\"] == \"correct\":\n",
    "        return \"end\"\n",
    "    elif state[\"attempts\"] >= 7:\n",
    "        state[\"status\"] = \"lost\"  # ✅ Use '=' not '=='\n",
    "        return \"end\"\n",
    "    else:\n",
    "        return \"continue\"\n"
   ]
  },
  {
   "cell_type": "code",
   "execution_count": 8,
   "id": "7c343445",
   "metadata": {},
   "outputs": [],
   "source": [
    "graph = StateGraph(AgentState)\n",
    "\n",
    "graph.add_node(\"guess\", guess_number)\n",
    "graph.add_node(\"Hint\", hint_node)\n",
    "graph.add_node(\"update\", update_bounds)\n",
    "\n",
    "graph.add_edge(START, \"guess\")\n",
    "graph.add_edge(\"guess\", \"Hint\")\n",
    "graph.add_edge(\"Hint\", \"update\")\n",
    "\n",
    "graph.add_conditional_edges(\n",
    "    \"update\",\n",
    "    check_game_status,\n",
    "    {\n",
    "        \"continue\": \"guess\",\n",
    "        \"end\": END\n",
    "    }\n",
    ")\n",
    "\n",
    "app = graph.compile()\n"
   ]
  },
  {
   "cell_type": "code",
   "execution_count": 9,
   "id": "d6f36526",
   "metadata": {},
   "outputs": [
    {
     "data": {
      "image/png": "[encoded data removed]",
      "text/plain": [
       "<IPython.core.display.Image object>"
      ]
     },
     "metadata": {},
     "output_type": "display_data"
    }
   ],
   "source": [
    "from IPython.display import Image, display \n",
    "display(Image(app.get_graph().draw_mermaid_png()))"
   ]
  },
  {
   "cell_type": "code",
   "execution_count": 14,
   "id": "e2877e9b",
   "metadata": {},
   "outputs": [
    {
     "name": "stdout",
     "output_type": "stream",
     "text": [
      "Game result: {'player_name': 'Samiullah Saleem', 'guesses': [10, 5, 7, 6], 'attempts': 4, 'lower_bound': 6, 'upper_bound': 6, 'target': 6, 'hint': 'correct', 'status': 'won'}\n"
     ]
    }
   ],
   "source": [
    "import random\n",
    "\n",
    "initial_state = {\n",
    "    \"player_name\": \"Samiullah Saleem\",\n",
    "    \"guesses\": [],\n",
    "    \"attempts\": 0,\n",
    "    \"lower_bound\": 1,\n",
    "    \"upper_bound\": 20,\n",
    "    \"target\": random.randint(1, 20),\n",
    "    \"hint\": \"\",\n",
    "    \"status\": \"\"\n",
    "}\n",
    "\n",
    "result = app.invoke(initial_state)\n",
    "print(\"Game result:\", result)\n"
   ]
  },
  {
   "cell_type": "code",
   "execution_count": null,
   "id": "c3bbc098",
   "metadata": {},
   "outputs": [],
   "source": []
  }
 ],
 "metadata": {
  "kernelspec": {
   "display_name": "torch_env",
   "language": "python",
   "name": "python3"
  },
  "language_info": {
   "codemirror_mode": {
    "name": "ipython",
    "version": 3
   },
   "file_extension": ".py",
   "mimetype": "text/x-python",
   "name": "python",
   "nbconvert_exporter": "python",
   "pygments_lexer": "ipython3",
   "version": "3.11.10"
  }
 },
 "nbformat": 4,
 "nbformat_minor": 5
}
